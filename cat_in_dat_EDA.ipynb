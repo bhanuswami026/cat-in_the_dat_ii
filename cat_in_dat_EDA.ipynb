{
  "nbformat": 4,
  "nbformat_minor": 0,
  "metadata": {
    "colab": {
      "name": "cat_in_dat_EDA.ipynb",
      "provenance": [],
      "collapsed_sections": [],
      "mount_file_id": "15DC4AcinRo5oGh69bJFkMTVqrErzae1U",
      "authorship_tag": "ABX9TyNQNbJThJpGAflgMDuxEgXn"
    },
    "kernelspec": {
      "name": "python3",
      "display_name": "Python 3"
    },
    "language_info": {
      "name": "python"
    }
  },
  "cells": [
    {
      "cell_type": "code",
      "metadata": {
        "id": "AQMfiY7ASj5G"
      },
      "source": [
        "import numpy as np\n",
        "import pandas as pd"
      ],
      "execution_count": null,
      "outputs": []
    },
    {
      "cell_type": "code",
      "metadata": {
        "id": "YBg3tIMOUp_E"
      },
      "source": [
        "df = pd.read_csv('/content/drive/MyDrive/Datasets/train.csv')"
      ],
      "execution_count": null,
      "outputs": []
    },
    {
      "cell_type": "markdown",
      "metadata": {
        "id": "CwvUX0rfVuen"
      },
      "source": [
        "# DATA EXPLORATION"
      ]
    },
    {
      "cell_type": "code",
      "metadata": {
        "colab": {
          "base_uri": "https://localhost:8080/",
          "height": 252
        },
        "id": "BthTR-U1VhYW",
        "outputId": "d9953b3e-068f-444e-fd87-9eaacbbcb388"
      },
      "source": [
        "df.head()\n",
        "\n",
        "#Data has \n",
        "#Five binary variables\n",
        "#Ten nominal variables\n",
        "#Six ordinal variables\n",
        "#Two cyclic variables\n",
        "#A target variable\n"
      ],
      "execution_count": null,
      "outputs": [
        {
          "output_type": "execute_result",
          "data": {
            "text/html": [
              "<div>\n",
              "<style scoped>\n",
              "    .dataframe tbody tr th:only-of-type {\n",
              "        vertical-align: middle;\n",
              "    }\n",
              "\n",
              "    .dataframe tbody tr th {\n",
              "        vertical-align: top;\n",
              "    }\n",
              "\n",
              "    .dataframe thead th {\n",
              "        text-align: right;\n",
              "    }\n",
              "</style>\n",
              "<table border=\"1\" class=\"dataframe\">\n",
              "  <thead>\n",
              "    <tr style=\"text-align: right;\">\n",
              "      <th></th>\n",
              "      <th>id</th>\n",
              "      <th>bin_0</th>\n",
              "      <th>bin_1</th>\n",
              "      <th>bin_2</th>\n",
              "      <th>bin_3</th>\n",
              "      <th>bin_4</th>\n",
              "      <th>nom_0</th>\n",
              "      <th>nom_1</th>\n",
              "      <th>nom_2</th>\n",
              "      <th>nom_3</th>\n",
              "      <th>nom_4</th>\n",
              "      <th>nom_5</th>\n",
              "      <th>nom_6</th>\n",
              "      <th>nom_7</th>\n",
              "      <th>nom_8</th>\n",
              "      <th>nom_9</th>\n",
              "      <th>ord_0</th>\n",
              "      <th>ord_1</th>\n",
              "      <th>ord_2</th>\n",
              "      <th>ord_3</th>\n",
              "      <th>ord_4</th>\n",
              "      <th>ord_5</th>\n",
              "      <th>day</th>\n",
              "      <th>month</th>\n",
              "      <th>target</th>\n",
              "    </tr>\n",
              "  </thead>\n",
              "  <tbody>\n",
              "    <tr>\n",
              "      <th>0</th>\n",
              "      <td>0</td>\n",
              "      <td>0.0</td>\n",
              "      <td>0.0</td>\n",
              "      <td>0.0</td>\n",
              "      <td>F</td>\n",
              "      <td>N</td>\n",
              "      <td>Red</td>\n",
              "      <td>Trapezoid</td>\n",
              "      <td>Hamster</td>\n",
              "      <td>Russia</td>\n",
              "      <td>Bassoon</td>\n",
              "      <td>de4c57ee2</td>\n",
              "      <td>a64bc7ddf</td>\n",
              "      <td>598080a91</td>\n",
              "      <td>0256c7a4b</td>\n",
              "      <td>02e7c8990</td>\n",
              "      <td>3.0</td>\n",
              "      <td>Contributor</td>\n",
              "      <td>Hot</td>\n",
              "      <td>c</td>\n",
              "      <td>U</td>\n",
              "      <td>Pw</td>\n",
              "      <td>6.0</td>\n",
              "      <td>3.0</td>\n",
              "      <td>0</td>\n",
              "    </tr>\n",
              "    <tr>\n",
              "      <th>1</th>\n",
              "      <td>1</td>\n",
              "      <td>1.0</td>\n",
              "      <td>1.0</td>\n",
              "      <td>0.0</td>\n",
              "      <td>F</td>\n",
              "      <td>Y</td>\n",
              "      <td>Red</td>\n",
              "      <td>Star</td>\n",
              "      <td>Axolotl</td>\n",
              "      <td>NaN</td>\n",
              "      <td>Theremin</td>\n",
              "      <td>2bb3c3e5c</td>\n",
              "      <td>3a3a936e8</td>\n",
              "      <td>1dddb8473</td>\n",
              "      <td>52ead350c</td>\n",
              "      <td>f37df64af</td>\n",
              "      <td>3.0</td>\n",
              "      <td>Grandmaster</td>\n",
              "      <td>Warm</td>\n",
              "      <td>e</td>\n",
              "      <td>X</td>\n",
              "      <td>pE</td>\n",
              "      <td>7.0</td>\n",
              "      <td>7.0</td>\n",
              "      <td>0</td>\n",
              "    </tr>\n",
              "    <tr>\n",
              "      <th>2</th>\n",
              "      <td>2</td>\n",
              "      <td>0.0</td>\n",
              "      <td>1.0</td>\n",
              "      <td>0.0</td>\n",
              "      <td>F</td>\n",
              "      <td>N</td>\n",
              "      <td>Red</td>\n",
              "      <td>NaN</td>\n",
              "      <td>Hamster</td>\n",
              "      <td>Canada</td>\n",
              "      <td>Bassoon</td>\n",
              "      <td>b574c9841</td>\n",
              "      <td>708248125</td>\n",
              "      <td>5ddc9a726</td>\n",
              "      <td>745b909d1</td>\n",
              "      <td>NaN</td>\n",
              "      <td>3.0</td>\n",
              "      <td>NaN</td>\n",
              "      <td>Freezing</td>\n",
              "      <td>n</td>\n",
              "      <td>P</td>\n",
              "      <td>eN</td>\n",
              "      <td>5.0</td>\n",
              "      <td>9.0</td>\n",
              "      <td>0</td>\n",
              "    </tr>\n",
              "    <tr>\n",
              "      <th>3</th>\n",
              "      <td>3</td>\n",
              "      <td>NaN</td>\n",
              "      <td>0.0</td>\n",
              "      <td>0.0</td>\n",
              "      <td>F</td>\n",
              "      <td>N</td>\n",
              "      <td>Red</td>\n",
              "      <td>Circle</td>\n",
              "      <td>Hamster</td>\n",
              "      <td>Finland</td>\n",
              "      <td>Theremin</td>\n",
              "      <td>673bdf1f6</td>\n",
              "      <td>23edb8da3</td>\n",
              "      <td>3a33ef960</td>\n",
              "      <td>bdaa56dd1</td>\n",
              "      <td>f9d456e57</td>\n",
              "      <td>1.0</td>\n",
              "      <td>Novice</td>\n",
              "      <td>Lava Hot</td>\n",
              "      <td>a</td>\n",
              "      <td>C</td>\n",
              "      <td>NaN</td>\n",
              "      <td>3.0</td>\n",
              "      <td>3.0</td>\n",
              "      <td>0</td>\n",
              "    </tr>\n",
              "    <tr>\n",
              "      <th>4</th>\n",
              "      <td>4</td>\n",
              "      <td>0.0</td>\n",
              "      <td>NaN</td>\n",
              "      <td>0.0</td>\n",
              "      <td>T</td>\n",
              "      <td>N</td>\n",
              "      <td>Red</td>\n",
              "      <td>Triangle</td>\n",
              "      <td>Hamster</td>\n",
              "      <td>Costa Rica</td>\n",
              "      <td>NaN</td>\n",
              "      <td>777d1ac2c</td>\n",
              "      <td>3a7975e46</td>\n",
              "      <td>bc9cc2a94</td>\n",
              "      <td>NaN</td>\n",
              "      <td>c5361037c</td>\n",
              "      <td>3.0</td>\n",
              "      <td>Grandmaster</td>\n",
              "      <td>Cold</td>\n",
              "      <td>h</td>\n",
              "      <td>C</td>\n",
              "      <td>OZ</td>\n",
              "      <td>5.0</td>\n",
              "      <td>12.0</td>\n",
              "      <td>0</td>\n",
              "    </tr>\n",
              "  </tbody>\n",
              "</table>\n",
              "</div>"
            ],
            "text/plain": [
              "   id  bin_0  bin_1  bin_2 bin_3 bin_4  ... ord_3 ord_4 ord_5  day month target\n",
              "0   0    0.0    0.0    0.0     F     N  ...     c     U    Pw  6.0   3.0      0\n",
              "1   1    1.0    1.0    0.0     F     Y  ...     e     X    pE  7.0   7.0      0\n",
              "2   2    0.0    1.0    0.0     F     N  ...     n     P    eN  5.0   9.0      0\n",
              "3   3    NaN    0.0    0.0     F     N  ...     a     C   NaN  3.0   3.0      0\n",
              "4   4    0.0    NaN    0.0     T     N  ...     h     C    OZ  5.0  12.0      0\n",
              "\n",
              "[5 rows x 25 columns]"
            ]
          },
          "metadata": {
            "tags": []
          },
          "execution_count": 3
        }
      ]
    },
    {
      "cell_type": "code",
      "metadata": {
        "colab": {
          "base_uri": "https://localhost:8080/"
        },
        "id": "Czkpm8KRVkKl",
        "outputId": "6935bbed-c84e-4bad-ac57-b46441615330"
      },
      "source": [
        "df.info()\n",
        "#there are missing values in a lot of features"
      ],
      "execution_count": null,
      "outputs": [
        {
          "output_type": "stream",
          "text": [
            "<class 'pandas.core.frame.DataFrame'>\n",
            "RangeIndex: 600000 entries, 0 to 599999\n",
            "Data columns (total 25 columns):\n",
            " #   Column  Non-Null Count   Dtype  \n",
            "---  ------  --------------   -----  \n",
            " 0   id      600000 non-null  int64  \n",
            " 1   bin_0   582106 non-null  float64\n",
            " 2   bin_1   581997 non-null  float64\n",
            " 3   bin_2   582070 non-null  float64\n",
            " 4   bin_3   581986 non-null  object \n",
            " 5   bin_4   581953 non-null  object \n",
            " 6   nom_0   581748 non-null  object \n",
            " 7   nom_1   581844 non-null  object \n",
            " 8   nom_2   581965 non-null  object \n",
            " 9   nom_3   581879 non-null  object \n",
            " 10  nom_4   581965 non-null  object \n",
            " 11  nom_5   582222 non-null  object \n",
            " 12  nom_6   581869 non-null  object \n",
            " 13  nom_7   581997 non-null  object \n",
            " 14  nom_8   582245 non-null  object \n",
            " 15  nom_9   581927 non-null  object \n",
            " 16  ord_0   581712 non-null  float64\n",
            " 17  ord_1   581959 non-null  object \n",
            " 18  ord_2   581925 non-null  object \n",
            " 19  ord_3   582084 non-null  object \n",
            " 20  ord_4   582070 non-null  object \n",
            " 21  ord_5   582287 non-null  object \n",
            " 22  day     582048 non-null  float64\n",
            " 23  month   582012 non-null  float64\n",
            " 24  target  600000 non-null  int64  \n",
            "dtypes: float64(6), int64(2), object(17)\n",
            "memory usage: 114.4+ MB\n"
          ],
          "name": "stdout"
        }
      ]
    },
    {
      "cell_type": "code",
      "metadata": {
        "colab": {
          "base_uri": "https://localhost:8080/"
        },
        "id": "Hm_wvKIFXrjW",
        "outputId": "ff76825d-9cf9-4271-c9df-556b5301876e"
      },
      "source": [
        "df.shape"
      ],
      "execution_count": null,
      "outputs": [
        {
          "output_type": "execute_result",
          "data": {
            "text/plain": [
              "(600000, 25)"
            ]
          },
          "metadata": {
            "tags": []
          },
          "execution_count": 5
        }
      ]
    },
    {
      "cell_type": "code",
      "metadata": {
        "id": "bRoFoGYNZDZp",
        "colab": {
          "base_uri": "https://localhost:8080/",
          "height": 278
        },
        "outputId": "78e8de84-2f20-4bd9-8abe-0015d92b367c"
      },
      "source": [
        "pd.value_counts(df['target']).plot.bar()\n",
        "#skewed data set"
      ],
      "execution_count": null,
      "outputs": [
        {
          "output_type": "execute_result",
          "data": {
            "text/plain": [
              "<matplotlib.axes._subplots.AxesSubplot at 0x7fd21c889410>"
            ]
          },
          "metadata": {
            "tags": []
          },
          "execution_count": 6
        },
        {
          "output_type": "display_data",
          "data": {
            "image/png": "[encoded data removed]",
            "text/plain": [
              "<Figure size 432x288 with 1 Axes>"
            ]
          },
          "metadata": {
            "tags": [],
            "needs_background": "light"
          }
        }
      ]
    }
  ]
}