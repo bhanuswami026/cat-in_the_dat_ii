{
  "nbformat": 4,
  "nbformat_minor": 0,
  "metadata": {
    "colab": {
      "name": "cat_in_dat_lr.ipynb",
      "provenance": [],
      "collapsed_sections": [],
      "mount_file_id": "1phwksji7huNhZOJhDeArzU3-Y0lg2pYl",
      "authorship_tag": "ABX9TyNRYYZ3NMF69xZQS4Bfth3o"
    },
    "kernelspec": {
      "name": "python3",
      "display_name": "Python 3"
    },
    "language_info": {
      "name": "python"
    }
  },
  "cells": [
    {
      "cell_type": "code",
      "metadata": {
        "id": "rubJkeCiAFSS"
      },
      "source": [
        "import pandas as pd\n",
        "from sklearn import linear_model\n",
        "from sklearn import metrics\n",
        "from sklearn import preprocessing\n",
        "from sklearn import model_selection\n",
        "\n",
        "import warnings\n",
        "warnings.simplefilter(\"ignore\", UserWarning)\n"
      ],
      "execution_count": null,
      "outputs": []
    },
    {
      "cell_type": "code",
      "metadata": {
        "id": "VT3KAbBDAKW_"
      },
      "source": [
        "df = pd.read_csv('/content/drive/MyDrive/Datasets/train.csv')"
      ],
      "execution_count": null,
      "outputs": []
    },
    {
      "cell_type": "markdown",
      "metadata": {
        "id": "8zozpYgRAnng"
      },
      "source": [
        "### CREATE CROSS-VALIDATION FOLDS:"
      ]
    },
    {
      "cell_type": "code",
      "metadata": {
        "id": "VJohMAmMAbdy"
      },
      "source": [
        "def create_folds (df,split):\n",
        "    #create a new column\n",
        "    df[\"kfold\"] = -1\n",
        "\n",
        "    #randomize the rows of the data\n",
        "    df = df.sample (frac = 1).reset_index(drop = True)\n",
        "\n",
        "    # define label column\n",
        "    y = df.target.values\n",
        "\n",
        "    # initiate the kfold class\n",
        "    kf = model_selection.StratifiedKFold(n_splits=split)\n",
        "\n",
        "    # revise the kfold column\n",
        "    for fold, (i , r) in enumerate(kf.split(X=df, y=y)):\n",
        "        df.loc[r, 'kfold'] = int(fold)\n",
        "    \n",
        "    return pd.DataFrame(df)\n",
        "\n"
      ],
      "execution_count": null,
      "outputs": []
    },
    {
      "cell_type": "code",
      "metadata": {
        "id": "r2CykDk3BopR"
      },
      "source": [
        "def lr_model(fold):\n",
        "    #define features\n",
        "    features = [f for f in df.columns if f not in ('id','target', 'kfold')]\n",
        "\n",
        "    # fill all NaN values with NONE\n",
        "    for column in features:\n",
        "        df.loc [:,column] = df[column].astype(str).fillna(\"NONE\")\n",
        "\n",
        "    # get training and validation data using folds\n",
        "    df_train = df[df.kfold != fold].reset_index(drop=True)\n",
        "    df_valid = df[df.kfold == fold].reset_index(drop=True)\n",
        "\n",
        "    # initialize OneHotEncoder from scikit-learn\n",
        "    ohe = preprocessing.OneHotEncoder()\n",
        "\n",
        "    #fit ohe on full_data\n",
        "    full_data = pd.concat( [df_train[features], df_valid[features]], axis=0 ) \n",
        "    ohe.fit(full_data[features])\n",
        "\n",
        "    #transform training and validation data\n",
        "    x_train = ohe.transform(df_train[features])\n",
        "    x_valid = ohe.transform(df_valid[features])\n",
        "    y_train = df_train.target.values\n",
        "    y_valid = df_valid.target.values\n",
        "    \n",
        "    # initialize Logistic Regression model\n",
        "    model = linear_model.LogisticRegression()\n",
        "\n",
        "    # fit model on training data (ohe)\n",
        "    model.fit(x_train, y_train)\n",
        "\n",
        "    #probabilities on validation set\n",
        "    y_pred = model.predict_proba(x_valid)[:, 1]\n",
        "\n",
        "    #using metrics\n",
        "    auc = metrics.roc_auc_score(y_valid, y_pred)\n",
        "    print(f\"for fold = {fold}, AUC is {auc}\")\n",
        "\n",
        "\n",
        "\n"
      ],
      "execution_count": null,
      "outputs": []
    },
    {
      "cell_type": "code",
      "metadata": {
        "id": "UZSvjODXVfDv"
      },
      "source": [
        "df = create_folds (df,split = 5)"
      ],
      "execution_count": null,
      "outputs": []
    },
    {
      "cell_type": "code",
      "metadata": {
        "colab": {
          "base_uri": "https://localhost:8080/"
        },
        "id": "eS7dO8BjRC8-",
        "outputId": "d23773b2-65e7-4683-ce80-df7032e10643"
      },
      "source": [
        "for i in range(5):\n",
        "    lr_model(i)"
      ],
      "execution_count": null,
      "outputs": [
        {
          "output_type": "stream",
          "text": [
            "for fold = 0, AUC is 0.7849424469023578\n",
            "for fold = 1, AUC is 0.7869124848080056\n",
            "for fold = 2, AUC is 0.7877524956343462\n",
            "for fold = 3, AUC is 0.7841918743271361\n",
            "for fold = 4, AUC is 0.7877242160817683\n"
          ],
          "name": "stdout"
        }
      ]
    },
    {
      "cell_type": "code",
      "metadata": {
        "id": "tN2-FPmBTGNR"
      },
      "source": [
        ""
      ],
      "execution_count": null,
      "outputs": []
    }
  ]
}